{
 "cells": [
  {
   "cell_type": "code",
   "execution_count": 26,
   "metadata": {},
   "outputs": [
    {
     "data": {
      "text/plain": [
       "{Temperature=26.2, SoundIntensity=0, Humidity=47.6, Wet=0, LightIntensity=230, timestamp=20180708T101547Z}    {Temperature=26.3, SoundIntensity=0, Humidity=...\n",
       "Name: 1, dtype: object"
      ]
     },
     "execution_count": 26,
     "metadata": {},
     "output_type": "execute_result"
    }
   ],
   "source": [
    "import pandas as pd\n",
    "\n",
    "text = pd.DataFrame(pd.read_table(\"raw.txt\"))\n",
    "(text.iloc[1])"
   ]
  },
  {
   "cell_type": "code",
   "execution_count": 55,
   "metadata": {},
   "outputs": [
    {
     "name": "stdout",
     "output_type": "stream",
     "text": [
      "{Temperature=26.3, SoundIntensity=0, Humidity=47.8, Wet=0, LightIntensity=226, timestamp=20180708T101549Z}\n",
      "[26, 0, 47, 0, 226, 20180708, 101549]\n"
     ]
    }
   ],
   "source": [
    "s = (text.iloc[0][0])\n",
    "print(s)\n",
    "# # TempIndexes = 13:17\n",
    "# Sound = 34,36\n",
    "# Humidity\n",
    "# print(Bhg)\n",
    "StringToList = []\n",
    "\n",
    "# for i in range(0,len(Bhg)):\n",
    "#     if(Bhg[i]=='='):\n",
    "#         StringToList.append(Bhg[i])\n",
    "#         StringToList.append(Bhg[i+1])\n",
    "#         if(Bhg[i]==','):\n",
    "#             break\n",
    "        \n",
    "import re\n",
    "x= re.findall(r'\\d+', s)\n",
    "\n",
    "toExclude = [1,4]\n",
    "\n",
    "del x[1]\n",
    "del x[3]\n",
    "\n",
    "x = list(map(int, x))\n",
    "print(x)"
   ]
  },
  {
   "cell_type": "code",
   "execution_count": null,
   "metadata": {},
   "outputs": [],
   "source": []
  }
 ],
 "metadata": {
  "kernelspec": {
   "display_name": "Python 3",
   "language": "python",
   "name": "python3"
  },
  "language_info": {
   "codemirror_mode": {
    "name": "ipython",
    "version": 2
   },
   "file_extension": ".py",
   "mimetype": "text/x-python",
   "name": "python",
   "nbconvert_exporter": "python",
   "pygments_lexer": "ipython2",
   "version": "2.7.15"
  }
 },
 "nbformat": 4,
 "nbformat_minor": 2
}
