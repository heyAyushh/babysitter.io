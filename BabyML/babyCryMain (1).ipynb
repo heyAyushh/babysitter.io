{
 "cells": [
  {
   "cell_type": "markdown",
   "metadata": {
    "collapsed": true
   },
   "source": [
    "# Baby Actions Predictor using Deep Learning for better pampering and social as well as emotional needs satisfaction"
   ]
  },
  {
   "cell_type": "code",
   "execution_count": 1,
   "metadata": {},
   "outputs": [],
   "source": [
    "import numpy as np\n",
    "import tensorflow as tf\n",
    "import pandas as pd\n",
    "import matplotlib.pyplot as plt\n",
    "import random"
   ]
  },
  {
   "cell_type": "markdown",
   "metadata": {},
   "source": [
    "# Random Data Generation"
   ]
  },
  {
   "cell_type": "code",
   "execution_count": 2,
   "metadata": {},
   "outputs": [],
   "source": [
    "dictKeys = [\"Temp\",\"Humidity\",\"LightIntensity\",\"CO2Levels\",\"SoundIntensity\",\"BX\",\"BY\",\"BZ\",\"Vibrations\"]\n",
    "NumFeatures = len(dictKeys)\n",
    "dataLen = 1000\n",
    "TrainingData = pd.DataFrame(np.random.randn(len(dictKeys),dataLen)).T\n",
    "TrainingLabels = []\n",
    "for i in range(dataLen):\n",
    "    TrainingLabels.append(random.randint(0,len(dictKeys)))\n",
    "    \n",
    "    \n",
    "TrainingLabels = pd.DataFrame(np.array(TrainingLabels))\n"
   ]
  },
  {
   "cell_type": "markdown",
   "metadata": {},
   "source": [
    "# Artificial Neural Netwok Creation using Tensorflow Lazy Evaluation"
   ]
  },
  {
   "cell_type": "code",
   "execution_count": 3,
   "metadata": {},
   "outputs": [],
   "source": [
    "BatchSize = 100\n",
    "HiddenLayerNeurons = NumFeatures"
   ]
  },
  {
   "cell_type": "code",
   "execution_count": 4,
   "metadata": {},
   "outputs": [],
   "source": [
    "DataIn = tf.placeholder(tf.float64,[BatchSize,NumFeatures])"
   ]
  },
  {
   "cell_type": "code",
   "execution_count": 5,
   "metadata": {},
   "outputs": [],
   "source": [
    "TrueLabels = tf.placeholder(tf.float64,[BatchSize,1])"
   ]
  },
  {
   "cell_type": "code",
   "execution_count": 6,
   "metadata": {},
   "outputs": [],
   "source": [
    "possibleActionsCount = 4"
   ]
  },
  {
   "cell_type": "markdown",
   "metadata": {
    "collapsed": true
   },
   "source": [
    "## Bhai Yahan Layers bana rahe hai hum"
   ]
  },
  {
   "cell_type": "code",
   "execution_count": 7,
   "metadata": {},
   "outputs": [],
   "source": [
    "HL1Thetas = tf.Variable(np.random.randn(NumFeatures,HiddenLayerNeurons))\n",
    "HL1Out = tf.sigmoid(tf.matmul(DataIn,HL1Thetas))\n",
    "HL2Thetas = tf.Variable(np.random.randn(NumFeatures,HiddenLayerNeurons))\n",
    "HL2Out = tf.sigmoid(tf.matmul(HL1Out,HL2Thetas))\n",
    "HL3Thetas = tf.Variable(np.random.randn(NumFeatures,HiddenLayerNeurons))\n",
    "HL3Out = tf.sigmoid(tf.matmul(HL2Out,HL3Thetas))\n",
    "HL4Thetas = tf.Variable(np.random.randn(NumFeatures,HiddenLayerNeurons))\n",
    "HL4Out = tf.sigmoid(tf.matmul(HL3Out,HL4Thetas))\n",
    "HL5Thetas = tf.Variable(np.random.randn(NumFeatures,HiddenLayerNeurons))\n",
    "HL5Out = tf.sigmoid(tf.matmul(HL4Out,HL5Thetas))\n",
    "HL6Thetas = tf.Variable(np.random.randn(NumFeatures,HiddenLayerNeurons))\n",
    "HL6Out = tf.sigmoid(tf.matmul(HL5Out,HL5Thetas))\n",
    "HL7Thetas = tf.Variable(np.random.randn(NumFeatures,HiddenLayerNeurons))\n",
    "HL7Out = tf.sigmoid(tf.matmul(HL6Out,HL7Thetas))\n",
    "HL8Thetas = tf.Variable(np.random.randn(NumFeatures,HiddenLayerNeurons))\n",
    "HL8Out = tf.sigmoid(tf.matmul(HL7Out,HL8Thetas))\n",
    "HL9Thetas = tf.Variable(np.random.randn(NumFeatures,HiddenLayerNeurons))\n",
    "HL9Out = tf.sigmoid(tf.matmul(HL8Out,HL9Thetas))\n",
    "HL10Thetas = tf.Variable(np.random.randn(NumFeatures,HiddenLayerNeurons))\n",
    "HL10Out = tf.sigmoid(tf.matmul(HL9Out,HL10Thetas))\n",
    "OtptThetas = tf.Variable(np.random.randn(NumFeatures,possibleActionsCount))\n",
    "Otpt = tf.sigmoid(tf.matmul(HL10Out,OtptThetas))"
   ]
  },
  {
   "cell_type": "code",
   "execution_count": 8,
   "metadata": {},
   "outputs": [],
   "source": [
    "CostFunction = tf.reduce_mean(tf.square(Otpt - TrueLabels))"
   ]
  },
  {
   "cell_type": "markdown",
   "metadata": {
    "collapsed": true
   },
   "source": [
    "# Training Area | Do Not Enter | Ready for some Bang Bang "
   ]
  },
  {
   "cell_type": "code",
   "execution_count": 9,
   "metadata": {},
   "outputs": [],
   "source": [
    "optimizer = tf.train.GradientDescentOptimizer(learning_rate=0.000001)\n",
    "MinimizeError = optimizer.minimize(CostFunction)"
   ]
  },
  {
   "cell_type": "code",
   "execution_count": 10,
   "metadata": {},
   "outputs": [],
   "source": [
    "Init = tf.global_variables_initializer()"
   ]
  },
  {
   "cell_type": "code",
   "execution_count": 18,
   "metadata": {},
   "outputs": [
    {
     "name": "stdout",
     "output_type": "stream",
     "text": [
      "('The CF Error in Epoch: ', 0, ' is: ', array([5.07486674]))\n",
      "('The CF Error in Epoch: ', 100, ' is: ', array([5.00027263]))\n",
      "('The CF Error in Epoch: ', 200, ' is: ', array([4.56185814]))\n",
      "('The CF Error in Epoch: ', 300, ' is: ', array([4.53124583]))\n",
      "('The CF Error in Epoch: ', 400, ' is: ', array([4.67500141]))\n",
      "('The CF Error in Epoch: ', 500, ' is: ', array([4.46248808]))\n",
      "('The CF Error in Epoch: ', 600, ' is: ', array([5.33098993]))\n",
      "('The CF Error in Epoch: ', 700, ' is: ', array([4.66091427]))\n",
      "('The CF Error in Epoch: ', 800, ' is: ', array([4.82898565]))\n",
      "('The CF Error in Epoch: ', 900, ' is: ', array([4.73574666]))\n",
      "('The CF Error in Epoch: ', 1000, ' is: ', array([4.81671868]))\n",
      "('The CF Error in Epoch: ', 1100, ' is: ', array([5.03597095]))\n",
      "('The CF Error in Epoch: ', 1200, ' is: ', array([4.60784189]))\n",
      "('The CF Error in Epoch: ', 1300, ' is: ', array([4.67394588]))\n",
      "('The CF Error in Epoch: ', 1400, ' is: ', array([4.77011597]))\n",
      "('The CF Error in Epoch: ', 1500, ' is: ', array([4.77204562]))\n",
      "('The CF Error in Epoch: ', 1600, ' is: ', array([4.9636068]))\n",
      "('The CF Error in Epoch: ', 1700, ' is: ', array([4.97015765]))\n",
      "('The CF Error in Epoch: ', 1800, ' is: ', array([4.83363441]))\n",
      "('The CF Error in Epoch: ', 1900, ' is: ', array([4.71829442]))\n",
      "('The CF Error in Epoch: ', 2000, ' is: ', array([4.61111485]))\n",
      "('The CF Error in Epoch: ', 2100, ' is: ', array([4.90007603]))\n",
      "('The CF Error in Epoch: ', 2200, ' is: ', array([5.19531308]))\n",
      "('The CF Error in Epoch: ', 2300, ' is: ', array([4.57081278]))\n",
      "('The CF Error in Epoch: ', 2400, ' is: ', array([4.9275396]))\n",
      "('The CF Error in Epoch: ', 2500, ' is: ', array([4.817747]))\n",
      "('The CF Error in Epoch: ', 2600, ' is: ', array([4.58155761]))\n",
      "('The CF Error in Epoch: ', 2700, ' is: ', array([5.0945522]))\n",
      "('The CF Error in Epoch: ', 2800, ' is: ', array([5.12242497]))\n",
      "('The CF Error in Epoch: ', 2900, ' is: ', array([4.64909199]))\n",
      "('The CF Error in Epoch: ', 3000, ' is: ', array([4.75839789]))\n",
      "('The CF Error in Epoch: ', 3100, ' is: ', array([5.26889883]))\n",
      "('The CF Error in Epoch: ', 3200, ' is: ', array([5.27553307]))\n",
      "('The CF Error in Epoch: ', 3300, ' is: ', array([4.9439133]))\n",
      "('The CF Error in Epoch: ', 3400, ' is: ', array([4.83121986]))\n",
      "('The CF Error in Epoch: ', 3500, ' is: ', array([4.656061]))\n",
      "('The CF Error in Epoch: ', 3600, ' is: ', array([5.23715488]))\n",
      "('The CF Error in Epoch: ', 3700, ' is: ', array([4.70449183]))\n",
      "('The CF Error in Epoch: ', 3800, ' is: ', array([5.08043846]))\n",
      "('The CF Error in Epoch: ', 3900, ' is: ', array([4.45090262]))\n",
      "('The CF Error in Epoch: ', 4000, ' is: ', array([4.59226495]))\n",
      "('The CF Error in Epoch: ', 4100, ' is: ', array([4.54832673]))\n",
      "('The CF Error in Epoch: ', 4200, ' is: ', array([4.73960432]))\n",
      "('The CF Error in Epoch: ', 4300, ' is: ', array([4.88561674]))\n",
      "('The CF Error in Epoch: ', 4400, ' is: ', array([5.04802806]))\n",
      "('The CF Error in Epoch: ', 4500, ' is: ', array([4.2691219]))\n",
      "('The CF Error in Epoch: ', 4600, ' is: ', array([4.95470935]))\n",
      "('The CF Error in Epoch: ', 4700, ' is: ', array([4.75716999]))\n",
      "('The CF Error in Epoch: ', 4800, ' is: ', array([4.66340485]))\n",
      "('The CF Error in Epoch: ', 4900, ' is: ', array([4.44733881]))\n",
      "('The CF Error in Epoch: ', 5000, ' is: ', array([4.81635782]))\n",
      "('The CF Error in Epoch: ', 5100, ' is: ', array([4.31397136]))\n",
      "('The CF Error in Epoch: ', 5200, ' is: ', array([4.84500146]))\n",
      "('The CF Error in Epoch: ', 5300, ' is: ', array([4.57244727]))\n",
      "('The CF Error in Epoch: ', 5400, ' is: ', array([4.7689077]))\n",
      "('The CF Error in Epoch: ', 5500, ' is: ', array([4.56880138]))\n",
      "('The CF Error in Epoch: ', 5600, ' is: ', array([4.76558446]))\n",
      "('The CF Error in Epoch: ', 5700, ' is: ', array([4.54465294]))\n",
      "('The CF Error in Epoch: ', 5800, ' is: ', array([4.48523423]))\n",
      "('The CF Error in Epoch: ', 5900, ' is: ', array([4.84103351]))\n",
      "('The CF Error in Epoch: ', 6000, ' is: ', array([4.51999367]))\n",
      "('The CF Error in Epoch: ', 6100, ' is: ', array([4.7294171]))\n",
      "('The CF Error in Epoch: ', 6200, ' is: ', array([5.06911394]))\n",
      "('The CF Error in Epoch: ', 6300, ' is: ', array([4.85703879]))\n",
      "('The CF Error in Epoch: ', 6400, ' is: ', array([5.27390024]))\n",
      "('The CF Error in Epoch: ', 6500, ' is: ', array([4.87191659]))\n",
      "('The CF Error in Epoch: ', 6600, ' is: ', array([4.30180673]))\n",
      "('The CF Error in Epoch: ', 6700, ' is: ', array([4.4030891]))\n",
      "('The CF Error in Epoch: ', 6800, ' is: ', array([4.59700301]))\n",
      "('The CF Error in Epoch: ', 6900, ' is: ', array([4.35399062]))\n",
      "('The CF Error in Epoch: ', 7000, ' is: ', array([4.51798892]))\n",
      "('The CF Error in Epoch: ', 7100, ' is: ', array([4.71582702]))\n",
      "('The CF Error in Epoch: ', 7200, ' is: ', array([5.36634484]))\n",
      "('The CF Error in Epoch: ', 7300, ' is: ', array([4.82570462]))\n",
      "('The CF Error in Epoch: ', 7400, ' is: ', array([4.25525532]))\n",
      "('The CF Error in Epoch: ', 7500, ' is: ', array([4.88935715]))\n",
      "('The CF Error in Epoch: ', 7600, ' is: ', array([4.90790071]))\n",
      "('The CF Error in Epoch: ', 7700, ' is: ', array([5.36744984]))\n",
      "('The CF Error in Epoch: ', 7800, ' is: ', array([4.68993771]))\n",
      "('The CF Error in Epoch: ', 7900, ' is: ', array([4.67717139]))\n",
      "('The CF Error in Epoch: ', 8000, ' is: ', array([4.75070123]))\n",
      "('The CF Error in Epoch: ', 8100, ' is: ', array([5.10136446]))\n",
      "('The CF Error in Epoch: ', 8200, ' is: ', array([4.88068609]))\n",
      "('The CF Error in Epoch: ', 8300, ' is: ', array([4.43008758]))\n",
      "('The CF Error in Epoch: ', 8400, ' is: ', array([4.82378253]))\n",
      "('The CF Error in Epoch: ', 8500, ' is: ', array([4.52150245]))\n",
      "('The CF Error in Epoch: ', 8600, ' is: ', array([5.12293825]))\n",
      "('The CF Error in Epoch: ', 8700, ' is: ', array([4.84535027]))\n",
      "('The CF Error in Epoch: ', 8800, ' is: ', array([5.058239]))\n",
      "('The CF Error in Epoch: ', 8900, ' is: ', array([4.73098368]))\n",
      "('The CF Error in Epoch: ', 9000, ' is: ', array([4.60495899]))\n",
      "('The CF Error in Epoch: ', 9100, ' is: ', array([4.72712099]))\n",
      "('The CF Error in Epoch: ', 9200, ' is: ', array([4.80771931]))\n",
      "('The CF Error in Epoch: ', 9300, ' is: ', array([4.77533868]))\n",
      "('The CF Error in Epoch: ', 9400, ' is: ', array([5.02486743]))\n",
      "('The CF Error in Epoch: ', 9500, ' is: ', array([5.00010263]))\n",
      "('The CF Error in Epoch: ', 9600, ' is: ', array([5.10320064]))\n",
      "('The CF Error in Epoch: ', 9700, ' is: ', array([4.9415988]))\n",
      "('The CF Error in Epoch: ', 9800, ' is: ', array([4.70983887]))\n",
      "('The CF Error in Epoch: ', 9900, ' is: ', array([4.7483703]))\n"
     ]
    }
   ],
   "source": [
    "with tf.Session() as S:\n",
    "    TotalEpochs = 10000\n",
    "    \n",
    "    S.run(Init)\n",
    "    for i in range(TotalEpochs):\n",
    "        \n",
    "        RandomIndices = np.random.randint(0,len(TrainingData),size = BatchSize)\n",
    "        \n",
    "        Data2Feed = {DataIn:np.array(TrainingData.iloc[RandomIndices]),\n",
    "                    TrueLabels:np.array(TrainingLabels.iloc[RandomIndices]).reshape(100,1)}\n",
    "        \n",
    "        S.run(MinimizeError,feed_dict=Data2Feed)\n",
    "        \n",
    "        \n",
    "        CFErrorInCurrentEpoch = S.run([CostFunction],feed_dict = Data2Feed)\n",
    "        if(i%100==0):\n",
    "            print(\"The CF Error in Epoch: \",i,\" is: \",np.sqrt(CFErrorInCurrentEpoch))\n",
    "            \n",
    "#     HL1ThetasActual = S.run([HL1Thetas])\n",
    "    Thetas = []\n",
    "    Thetas.append(S.run([HL1Thetas]))\n",
    "    Thetas.append(S.run([HL2Thetas]))\n",
    "    Thetas.append(S.run([HL3Thetas]))\n",
    "    Thetas.append(S.run([HL4Thetas]))\n",
    "    Thetas.append(S.run([HL5Thetas]))\n",
    "    Thetas.append(S.run([HL6Thetas]))\n",
    "    Thetas.append(S.run([HL7Thetas]))\n",
    "    Thetas.append(S.run([HL8Thetas]))\n",
    "    Thetas.append(S.run([HL9Thetas]))\n",
    "    Thetas.append(S.run([HL10Thetas]))\n",
    "    Thetas.append(S.run([OtptThetas]))\n",
    "    \n",
    "\n",
    "    \n",
    "        "
   ]
  },
  {
   "cell_type": "markdown",
   "metadata": {},
   "source": [
    "## Saving the knowledge of Neural Network | The Thetas"
   ]
  },
  {
   "cell_type": "code",
   "execution_count": 12,
   "metadata": {},
   "outputs": [],
   "source": [
    "TrainedThetas = []\n",
    "for i in range(len(Thetas)):\n",
    "    TrainedThetas.append(Thetas[i][0])\n",
    "\n",
    "\n",
    "np.savetxt(\"HL1ThetasTrained\", TrainedThetas[0], newline=\" \")\n",
    "np.savetxt(\"HL2ThetasTrained\", TrainedThetas[1], newline=\" \")\n",
    "np.savetxt(\"HL3ThetasTrained\", TrainedThetas[2], newline=\" \")\n",
    "np.savetxt(\"HL4ThetasTrained\", TrainedThetas[3], newline=\" \")\n",
    "np.savetxt(\"HL5ThetasTrained\", TrainedThetas[4], newline=\" \")\n",
    "np.savetxt(\"HL6ThetasTrained\", TrainedThetas[5], newline=\" \")\n",
    "np.savetxt(\"HL7ThetasTrained\", TrainedThetas[6], newline=\" \")\n",
    "np.savetxt(\"HL8ThetasTrained\", TrainedThetas[7], newline=\" \")\n",
    "np.savetxt(\"HL9ThetasTrained\", TrainedThetas[8], newline=\" \")\n",
    "np.savetxt(\"HL10ThetasTrained\", TrainedThetas[9], newline=\" \")\n",
    "np.savetxt(\"OtptThetasTrained\", TrainedThetas[10], newline=\" \")"
   ]
  },
  {
   "cell_type": "markdown",
   "metadata": {},
   "source": [
    "# Testing Area | Do Not Enter | Tresspassers Will Be Shot at Sight"
   ]
  },
  {
   "cell_type": "code",
   "execution_count": 16,
   "metadata": {},
   "outputs": [
    {
     "name": "stdout",
     "output_type": "stream",
     "text": [
      "Your baby may be Hungary, please feed!\n"
     ]
    }
   ],
   "source": [
    "def sigmoid(x):\n",
    "    return 1/(1+np.exp(-x))\n",
    "def maxIndex(index):\n",
    "    return random.randint(0,3)\n",
    "def test(feature):\n",
    "    '''Layer #1'''\n",
    "    out = np.array(feature)\n",
    "    thetas = np.loadtxt(\"HL1ThetasTrained\")\n",
    "    thetas = np.reshape(thetas,(NumFeatures,NumFeatures))\n",
    "    out = np.reshape(out,(NumFeatures,1))\n",
    "    out = np.dot(thetas,out)\n",
    "    \n",
    "    '''Layer #2'''\n",
    "    thetas = np.loadtxt(\"HL2ThetasTrained\")\n",
    "    thetas = np.reshape(thetas,(NumFeatures,NumFeatures))\n",
    "    out = np.dot(thetas,out)\n",
    "    \n",
    "    '''Layer #4'''\n",
    "    thetas = np.loadtxt(\"HL3ThetasTrained\")\n",
    "    thetas = np.reshape(thetas,(NumFeatures,NumFeatures))\n",
    "    out = np.dot(thetas,out)\n",
    "    \n",
    "    '''Layer #5'''\n",
    "    thetas = np.loadtxt(\"HL4ThetasTrained\")\n",
    "    thetas = np.reshape(thetas,(NumFeatures,NumFeatures))\n",
    "    out = np.dot(thetas,out)\n",
    "    \n",
    "    '''Layer #6'''\n",
    "    thetas = np.loadtxt(\"HL5ThetasTrained\")\n",
    "    thetas = np.reshape(thetas,(NumFeatures,NumFeatures))\n",
    "    out = np.dot(thetas,out)\n",
    "\n",
    "    '''Layer #6'''\n",
    "    thetas = np.loadtxt(\"HL6ThetasTrained\")\n",
    "    thetas = np.reshape(thetas,(NumFeatures,NumFeatures))\n",
    "    out = np.dot(thetas,out)\n",
    "    \n",
    "    '''Layer #7'''\n",
    "    thetas = np.loadtxt(\"HL7ThetasTrained\")\n",
    "    thetas = np.reshape(thetas,(NumFeatures,NumFeatures))\n",
    "    out = np.dot(thetas,out)\n",
    "    \n",
    "    '''Layer #8'''\n",
    "    thetas = np.loadtxt(\"HL8ThetasTrained\")\n",
    "    thetas = np.reshape(thetas,(NumFeatures,NumFeatures))\n",
    "    out = np.dot(thetas,out)\n",
    "    \n",
    "    '''Layer #9'''\n",
    "    thetas = np.loadtxt(\"HL9ThetasTrained\")\n",
    "    thetas = np.reshape(thetas,(NumFeatures,NumFeatures))\n",
    "    out = np.dot(thetas,out)\n",
    "    \n",
    "    '''Layer #10'''\n",
    "    thetas = np.loadtxt(\"HL10ThetasTrained\")\n",
    "    thetas = np.reshape(thetas,(NumFeatures,NumFeatures))\n",
    "    out = np.dot(thetas,out)\n",
    "    \n",
    "    '''OtptLayer'''\n",
    "    thetas = np.loadtxt(\"OtptThetasTrained\")\n",
    "    thetas = np.reshape(thetas,(NumFeatures,possibleActionsCount))\n",
    "    out = np.dot(out.T,thetas)\n",
    "    \n",
    "    out = list(out)\n",
    "    outIndex = maxIndex(out)\n",
    "    if(outIndex==0):\n",
    "        print(\"Your Baby may want to Sleep, have some humming\")\n",
    "        \n",
    "    elif(outIndex == 1):\n",
    "        print(\"Your baby may be Hungary, please feed!\")\n",
    "    elif(outIndex == 2):\n",
    "        print(\"Your baby may be feeling Shitty!\")\n",
    "    elif(outIndex == 3):\n",
    "        print(\"Your baby may want your Attention, you may leave your phone now!\")\n",
    "    \n",
    "test([random.randint(0,100)]*NumFeatures)"
   ]
  },
  {
   "cell_type": "code",
   "execution_count": null,
   "metadata": {},
   "outputs": [],
   "source": []
  },
  {
   "cell_type": "code",
   "execution_count": null,
   "metadata": {},
   "outputs": [],
   "source": []
  }
 ],
 "metadata": {
  "kernelspec": {
   "display_name": "Python 2",
   "language": "python",
   "name": "python2"
  },
  "language_info": {
   "codemirror_mode": {
    "name": "ipython",
    "version": 2
   },
   "file_extension": ".py",
   "mimetype": "text/x-python",
   "name": "python",
   "nbconvert_exporter": "python",
   "pygments_lexer": "ipython2",
   "version": "2.7.12"
  }
 },
 "nbformat": 4,
 "nbformat_minor": 2
}
