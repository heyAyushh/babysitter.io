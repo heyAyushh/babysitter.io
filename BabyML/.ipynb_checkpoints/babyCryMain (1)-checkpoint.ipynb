{
 "cells": [
  {
   "cell_type": "markdown",
   "metadata": {
    "collapsed": true
   },
   "source": [
    "# Baby Actions Predictor using Deep Learning for better pampering and social as well as emotional needs satisfaction"
   ]
  },
  {
   "cell_type": "code",
   "execution_count": 1,
   "metadata": {},
   "outputs": [],
   "source": [
    "import numpy as np\n",
    "import tensorflow as tf\n",
    "import pandas as pd\n",
    "import matplotlib.pyplot as plt\n",
    "import random"
   ]
  },
  {
   "cell_type": "markdown",
   "metadata": {},
   "source": [
    "# Random Data Generation"
   ]
  },
  {
   "cell_type": "code",
   "execution_count": 2,
   "metadata": {},
   "outputs": [],
   "source": [
    "dictKeys = [\"Temp\",\"Humidity\",\"LightIntensity\",\"CO2Levels\",\"SoundIntensity\",\"BX\",\"BY\",\"BZ\",\"Vibrations\"]\n",
    "NumFeatures = len(dictKeys)\n",
    "dataLen = 1000\n",
    "TrainingData = pd.DataFrame(np.random.randn(len(dictKeys),dataLen)).T\n",
    "TrainingLabels = []\n",
    "for i in range(dataLen):\n",
    "    TrainingLabels.append(random.randint(0,len(dictKeys)))\n",
    "    \n",
    "    \n",
    "TrainingLabels = pd.DataFrame(np.array(TrainingLabels))\n"
   ]
  },
  {
   "cell_type": "markdown",
   "metadata": {},
   "source": [
    "# Artificial Neural Netwok Creation using Tensorflow Lazy Evaluation"
   ]
  },
  {
   "cell_type": "code",
   "execution_count": 3,
   "metadata": {},
   "outputs": [],
   "source": [
    "BatchSize = 100\n",
    "HiddenLayerNeurons = NumFeatures"
   ]
  },
  {
   "cell_type": "code",
   "execution_count": 4,
   "metadata": {},
   "outputs": [],
   "source": [
    "DataIn = tf.placeholder(tf.float64,[BatchSize,NumFeatures])"
   ]
  },
  {
   "cell_type": "code",
   "execution_count": 5,
   "metadata": {},
   "outputs": [],
   "source": [
    "TrueLabels = tf.placeholder(tf.float64,[BatchSize,1])"
   ]
  },
  {
   "cell_type": "code",
   "execution_count": 6,
   "metadata": {},
   "outputs": [],
   "source": [
    "possibleActionsCount = 4"
   ]
  },
  {
   "cell_type": "markdown",
   "metadata": {
    "collapsed": true
   },
   "source": [
    "## Creating Layers"
   ]
  },
  {
   "cell_type": "code",
   "execution_count": 7,
   "metadata": {},
   "outputs": [
    {
     "data": {
      "text/plain": [
       "<tf.Tensor 'HL3Thetas:0' shape=() dtype=string>"
      ]
     },
     "execution_count": 7,
     "metadata": {},
     "output_type": "execute_result"
    }
   ],
   "source": [
    "HL1Thetas = tf.Variable(np.random.randn(NumFeatures,HiddenLayerNeurons))\n",
    "\n",
    "\n",
    "HL1Out = tf.sigmoid(tf.matmul(DataIn,HL1Thetas))\n",
    "HL2Thetas = tf.Variable(np.random.randn(NumFeatures,HiddenLayerNeurons))\n",
    "HL2Out = tf.sigmoid(tf.matmul(HL1Out,HL2Thetas))\n",
    "HL3Thetas = tf.Variable(np.random.randn(NumFeatures,HiddenLayerNeurons))\n",
    "HL3Out = tf.sigmoid(tf.matmul(HL2Out,HL3Thetas))\n",
    "HL4Thetas = tf.Variable(np.random.randn(NumFeatures,HiddenLayerNeurons))\n",
    "HL4Out = tf.sigmoid(tf.matmul(HL3Out,HL4Thetas))\n",
    "HL5Thetas = tf.Variable(np.random.randn(NumFeatures,HiddenLayerNeurons))\n",
    "HL5Out = tf.sigmoid(tf.matmul(HL4Out,HL5Thetas))\n",
    "HL6Thetas = tf.Variable(np.random.randn(NumFeatures,HiddenLayerNeurons))\n",
    "HL6Out = tf.sigmoid(tf.matmul(HL5Out,HL5Thetas))\n",
    "HL7Thetas = tf.Variable(np.random.randn(NumFeatures,HiddenLayerNeurons))\n",
    "HL7Out = tf.sigmoid(tf.matmul(HL6Out,HL7Thetas))\n",
    "HL8Thetas = tf.Variable(np.random.randn(NumFeatures,HiddenLayerNeurons))\n",
    "HL8Out = tf.sigmoid(tf.matmul(HL7Out,HL8Thetas))\n",
    "HL9Thetas = tf.Variable(np.random.randn(NumFeatures,HiddenLayerNeurons))\n",
    "HL9Out = tf.sigmoid(tf.matmul(HL8Out,HL9Thetas))\n",
    "HL10Thetas = tf.Variable(np.random.randn(NumFeatures,HiddenLayerNeurons))\n",
    "HL10Out = tf.sigmoid(tf.matmul(HL9Out,HL10Thetas))\n",
    "OtptThetas = tf.Variable(np.random.randn(NumFeatures,possibleActionsCount))\n",
    "Otpt = tf.sigmoid(tf.matmul(HL10Out,OtptThetas))\n",
    "\n",
    "\n",
    "tf.summary.histogram(\"HL1Thetas\",HL1Thetas)\n",
    "tf.summary.histogram(\"HL2Thetas\",HL2Thetas)\n",
    "tf.summary.histogram(\"HL3Thetas\",HL3Thetas)\n",
    "\n",
    "\n",
    "\n",
    "\n"
   ]
  },
  {
   "cell_type": "code",
   "execution_count": 8,
   "metadata": {},
   "outputs": [
    {
     "data": {
      "text/plain": [
       "<tf.Tensor 'Error:0' shape=() dtype=string>"
      ]
     },
     "execution_count": 8,
     "metadata": {},
     "output_type": "execute_result"
    }
   ],
   "source": [
    "CostFunction = tf.reduce_mean(tf.square(Otpt - TrueLabels))\n",
    "tf.summary.scalar(\"Error\",CostFunction)"
   ]
  },
  {
   "cell_type": "code",
   "execution_count": 9,
   "metadata": {},
   "outputs": [],
   "source": [
    "merged_summary = tf.summary.merge_all()\n",
    "writer = tf.summary.FileWriter(\"TensorboardSummary-SigmoidActivation\")"
   ]
  },
  {
   "cell_type": "markdown",
   "metadata": {
    "collapsed": true
   },
   "source": [
    "# Training Area | Do Not Enter | Ready for some Bang Bang "
   ]
  },
  {
   "cell_type": "code",
   "execution_count": 10,
   "metadata": {},
   "outputs": [],
   "source": [
    "optimizer = tf.train.GradientDescentOptimizer(learning_rate=0.000001)\n",
    "MinimizeError = optimizer.minimize(CostFunction)"
   ]
  },
  {
   "cell_type": "code",
   "execution_count": 11,
   "metadata": {},
   "outputs": [],
   "source": [
    "Init = tf.global_variables_initializer()"
   ]
  },
  {
   "cell_type": "code",
   "execution_count": 16,
   "metadata": {},
   "outputs": [
    {
     "name": "stdout",
     "output_type": "stream",
     "text": [
      "('The CF Error in Epoch: ', 0, ' is: ', array([4.9902994]))\n",
      "('The CF Error in Epoch: ', 100, ' is: ', array([4.99696677]))\n",
      "('The CF Error in Epoch: ', 200, ' is: ', array([5.31700524]))\n",
      "('The CF Error in Epoch: ', 300, ' is: ', array([4.86124078]))\n",
      "('The CF Error in Epoch: ', 400, ' is: ', array([4.85682291]))\n",
      "('The CF Error in Epoch: ', 500, ' is: ', array([5.13707785]))\n",
      "('The CF Error in Epoch: ', 600, ' is: ', array([5.05646288]))\n",
      "('The CF Error in Epoch: ', 700, ' is: ', array([4.52183476]))\n",
      "('The CF Error in Epoch: ', 800, ' is: ', array([5.0455059]))\n",
      "('The CF Error in Epoch: ', 900, ' is: ', array([5.17224537]))\n",
      "('The CF Error in Epoch: ', 1000, ' is: ', array([5.16349989]))\n",
      "('The CF Error in Epoch: ', 1100, ' is: ', array([4.93173212]))\n",
      "('The CF Error in Epoch: ', 1200, ' is: ', array([5.2535973]))\n",
      "('The CF Error in Epoch: ', 1300, ' is: ', array([5.21976745]))\n",
      "('The CF Error in Epoch: ', 1400, ' is: ', array([5.06898915]))\n",
      "('The CF Error in Epoch: ', 1500, ' is: ', array([4.93847889]))\n",
      "('The CF Error in Epoch: ', 1600, ' is: ', array([4.7733059]))\n",
      "('The CF Error in Epoch: ', 1700, ' is: ', array([5.05985019]))\n",
      "('The CF Error in Epoch: ', 1800, ' is: ', array([4.75108152]))\n",
      "('The CF Error in Epoch: ', 1900, ' is: ', array([4.93904493]))\n",
      "('The CF Error in Epoch: ', 2000, ' is: ', array([4.89273514]))\n",
      "('The CF Error in Epoch: ', 2100, ' is: ', array([4.97337662]))\n",
      "('The CF Error in Epoch: ', 2200, ' is: ', array([5.08815354]))\n",
      "('The CF Error in Epoch: ', 2300, ' is: ', array([5.00765111]))\n",
      "('The CF Error in Epoch: ', 2400, ' is: ', array([5.17183463]))\n",
      "('The CF Error in Epoch: ', 2500, ' is: ', array([4.75080281]))\n",
      "('The CF Error in Epoch: ', 2600, ' is: ', array([5.28486522]))\n",
      "('The CF Error in Epoch: ', 2700, ' is: ', array([4.92211265]))\n",
      "('The CF Error in Epoch: ', 2800, ' is: ', array([4.92991154]))\n",
      "('The CF Error in Epoch: ', 2900, ' is: ', array([5.1930931]))\n",
      "('The CF Error in Epoch: ', 3000, ' is: ', array([4.55073901]))\n",
      "('The CF Error in Epoch: ', 3100, ' is: ', array([5.04584298]))\n",
      "('The CF Error in Epoch: ', 3200, ' is: ', array([5.01701064]))\n",
      "('The CF Error in Epoch: ', 3300, ' is: ', array([5.05061349]))\n",
      "('The CF Error in Epoch: ', 3400, ' is: ', array([4.99444871]))\n",
      "('The CF Error in Epoch: ', 3500, ' is: ', array([5.36592214]))\n",
      "('The CF Error in Epoch: ', 3600, ' is: ', array([4.65767898]))\n",
      "('The CF Error in Epoch: ', 3700, ' is: ', array([4.70887013]))\n",
      "('The CF Error in Epoch: ', 3800, ' is: ', array([4.73479326]))\n",
      "('The CF Error in Epoch: ', 3900, ' is: ', array([5.0051655]))\n",
      "('The CF Error in Epoch: ', 4000, ' is: ', array([5.18401821]))\n",
      "('The CF Error in Epoch: ', 4100, ' is: ', array([5.30357843]))\n",
      "('The CF Error in Epoch: ', 4200, ' is: ', array([4.6207671]))\n",
      "('The CF Error in Epoch: ', 4300, ' is: ', array([5.05167427]))\n",
      "('The CF Error in Epoch: ', 4400, ' is: ', array([5.06560003]))\n",
      "('The CF Error in Epoch: ', 4500, ' is: ', array([5.10418022]))\n",
      "('The CF Error in Epoch: ', 4600, ' is: ', array([5.11658893]))\n",
      "('The CF Error in Epoch: ', 4700, ' is: ', array([4.92301569]))\n",
      "('The CF Error in Epoch: ', 4800, ' is: ', array([5.1347132]))\n",
      "('The CF Error in Epoch: ', 4900, ' is: ', array([5.2345372]))\n",
      "('The CF Error in Epoch: ', 5000, ' is: ', array([5.17906877]))\n",
      "('The CF Error in Epoch: ', 5100, ' is: ', array([4.80249682]))\n",
      "('The CF Error in Epoch: ', 5200, ' is: ', array([5.14994109]))\n",
      "('The CF Error in Epoch: ', 5300, ' is: ', array([4.99045195]))\n",
      "('The CF Error in Epoch: ', 5400, ' is: ', array([5.09651124]))\n",
      "('The CF Error in Epoch: ', 5500, ' is: ', array([4.74783927]))\n",
      "('The CF Error in Epoch: ', 5600, ' is: ', array([4.86311158]))\n",
      "('The CF Error in Epoch: ', 5700, ' is: ', array([5.23170838]))\n",
      "('The CF Error in Epoch: ', 5800, ' is: ', array([4.59092395]))\n",
      "('The CF Error in Epoch: ', 5900, ' is: ', array([4.95042005]))\n",
      "('The CF Error in Epoch: ', 6000, ' is: ', array([4.932467]))\n",
      "('The CF Error in Epoch: ', 6100, ' is: ', array([4.83822046]))\n",
      "('The CF Error in Epoch: ', 6200, ' is: ', array([4.84228915]))\n",
      "('The CF Error in Epoch: ', 6300, ' is: ', array([5.07824424]))\n",
      "('The CF Error in Epoch: ', 6400, ' is: ', array([5.36982116]))\n",
      "('The CF Error in Epoch: ', 6500, ' is: ', array([5.17089825]))\n",
      "('The CF Error in Epoch: ', 6600, ' is: ', array([5.25838296]))\n",
      "('The CF Error in Epoch: ', 6700, ' is: ', array([4.68398672]))\n",
      "('The CF Error in Epoch: ', 6800, ' is: ', array([5.06730755]))\n",
      "('The CF Error in Epoch: ', 6900, ' is: ', array([5.3975887]))\n",
      "('The CF Error in Epoch: ', 7000, ' is: ', array([4.97449435]))\n",
      "('The CF Error in Epoch: ', 7100, ' is: ', array([5.15864148]))\n",
      "('The CF Error in Epoch: ', 7200, ' is: ', array([4.84909393]))\n",
      "('The CF Error in Epoch: ', 7300, ' is: ', array([4.95100197]))\n",
      "('The CF Error in Epoch: ', 7400, ' is: ', array([4.94489462]))\n",
      "('The CF Error in Epoch: ', 7500, ' is: ', array([4.93807069]))\n",
      "('The CF Error in Epoch: ', 7600, ' is: ', array([4.75361052]))\n",
      "('The CF Error in Epoch: ', 7700, ' is: ', array([5.06219054]))\n",
      "('The CF Error in Epoch: ', 7800, ' is: ', array([5.07304709]))\n",
      "('The CF Error in Epoch: ', 7900, ' is: ', array([4.76937006]))\n",
      "('The CF Error in Epoch: ', 8000, ' is: ', array([5.05197468]))\n",
      "('The CF Error in Epoch: ', 8100, ' is: ', array([4.87377271]))\n",
      "('The CF Error in Epoch: ', 8200, ' is: ', array([5.25770714]))\n",
      "('The CF Error in Epoch: ', 8300, ' is: ', array([5.25305765]))\n",
      "('The CF Error in Epoch: ', 8400, ' is: ', array([5.06581215]))\n",
      "('The CF Error in Epoch: ', 8500, ' is: ', array([5.23578754]))\n",
      "('The CF Error in Epoch: ', 8600, ' is: ', array([4.81589228]))\n",
      "('The CF Error in Epoch: ', 8700, ' is: ', array([4.95910955]))\n",
      "('The CF Error in Epoch: ', 8800, ' is: ', array([4.99334736]))\n",
      "('The CF Error in Epoch: ', 8900, ' is: ', array([5.02396534]))\n",
      "('The CF Error in Epoch: ', 9000, ' is: ', array([4.9175589]))\n",
      "('The CF Error in Epoch: ', 9100, ' is: ', array([4.94346323]))\n",
      "('The CF Error in Epoch: ', 9200, ' is: ', array([5.15079806]))\n",
      "('The CF Error in Epoch: ', 9300, ' is: ', array([4.88295967]))\n",
      "('The CF Error in Epoch: ', 9400, ' is: ', array([5.03677704]))\n",
      "('The CF Error in Epoch: ', 9500, ' is: ', array([4.93082333]))\n",
      "('The CF Error in Epoch: ', 9600, ' is: ', array([5.23005277]))\n",
      "('The CF Error in Epoch: ', 9700, ' is: ', array([4.99930478]))\n",
      "('The CF Error in Epoch: ', 9800, ' is: ', array([5.00265924]))\n",
      "('The CF Error in Epoch: ', 9900, ' is: ', array([4.92052616]))\n"
     ]
    }
   ],
   "source": [
    "with tf.Session() as S:\n",
    "    TotalEpochs = 10000\n",
    "    \n",
    "    S.run(Init)\n",
    "    for i in range(TotalEpochs):\n",
    "        \n",
    "        RandomIndices = np.random.randint(0,len(TrainingData),size = BatchSize)\n",
    "        \n",
    "        Data2Feed = {DataIn:np.array(TrainingData.iloc[RandomIndices]),\n",
    "                    TrueLabels:np.array(TrainingLabels.iloc[RandomIndices]).reshape(100,1)}\n",
    "        \n",
    "        S.run(MinimizeError,feed_dict=Data2Feed)\n",
    "        \n",
    "        if(i%5==0):\n",
    "            sess = S.run(merged_summary,feed_dict=Data2Feed)\n",
    "            writer.add_summary(sess,i)\n",
    "            writer.add_graph(S.graph) \n",
    "            \n",
    "                \n",
    "        CFErrorInCurrentEpoch = S.run([CostFunction],feed_dict = Data2Feed)\n",
    "        if(i%100==0):\n",
    "            print(\"The CF Error in Epoch: \",i,\" is: \",np.sqrt(CFErrorInCurrentEpoch))\n",
    "            \n",
    "            \n",
    "          \n",
    "            \n",
    "#     HL1ThetasActual = S.run([HL1Thetas])\n",
    "    Thetas = []\n",
    "    Thetas.append(S.run([HL1Thetas]))\n",
    "    Thetas.append(S.run([HL2Thetas]))\n",
    "    Thetas.append(S.run([HL3Thetas]))\n",
    "    Thetas.append(S.run([HL4Thetas]))\n",
    "    Thetas.append(S.run([HL5Thetas]))\n",
    "    Thetas.append(S.run([HL6Thetas]))\n",
    "    Thetas.append(S.run([HL7Thetas]))\n",
    "    Thetas.append(S.run([HL8Thetas]))\n",
    "    Thetas.append(S.run([HL9Thetas]))\n",
    "    Thetas.append(S.run([HL10Thetas]))\n",
    "    Thetas.append(S.run([OtptThetas]))"
   ]
  },
  {
   "cell_type": "code",
   "execution_count": 17,
   "metadata": {},
   "outputs": [],
   "source": [
    "writer.add_graph(S.graph)  "
   ]
  },
  {
   "cell_type": "markdown",
   "metadata": {},
   "source": [
    "## Saving the knowledge of Neural Network | The Thetas"
   ]
  },
  {
   "cell_type": "code",
   "execution_count": 18,
   "metadata": {},
   "outputs": [],
   "source": [
    "TrainedThetas = []\n",
    "for i in range(len(Thetas)):\n",
    "    TrainedThetas.append(Thetas[i][0])\n",
    "\n",
    "\n",
    "np.savetxt(\"HL1ThetasTrained\", TrainedThetas[0], newline=\" \")\n",
    "np.savetxt(\"HL2ThetasTrained\", TrainedThetas[1], newline=\" \")\n",
    "np.savetxt(\"HL3ThetasTrained\", TrainedThetas[2], newline=\" \")\n",
    "np.savetxt(\"HL4ThetasTrained\", TrainedThetas[3], newline=\" \")\n",
    "np.savetxt(\"HL5ThetasTrained\", TrainedThetas[4], newline=\" \")\n",
    "np.savetxt(\"HL6ThetasTrained\", TrainedThetas[5], newline=\" \")\n",
    "np.savetxt(\"HL7ThetasTrained\", TrainedThetas[6], newline=\" \")\n",
    "np.savetxt(\"HL8ThetasTrained\", TrainedThetas[7], newline=\" \")\n",
    "np.savetxt(\"HL9ThetasTrained\", TrainedThetas[8], newline=\" \")\n",
    "np.savetxt(\"HL10ThetasTrained\", TrainedThetas[9], newline=\" \")\n",
    "np.savetxt(\"OtptThetasTrained\", TrainedThetas[10], newline=\" \")"
   ]
  },
  {
   "cell_type": "markdown",
   "metadata": {},
   "source": [
    "# Testing Area | Do Not Enter | Tresspassers Will Be Shot at Sight"
   ]
  },
  {
   "cell_type": "code",
   "execution_count": 51,
   "metadata": {},
   "outputs": [
    {
     "name": "stdout",
     "output_type": "stream",
     "text": [
      "['{Temperature=29.9, SoundIntensity=0, Humidity=51, Wet=0, LightIntensity=836, timestamp=20180708T120305Z}']\n"
     ]
    },
    {
     "ename": "TypeError",
     "evalue": "buffer size mismatch",
     "output_type": "error",
     "traceback": [
      "\u001b[0;31m---------------------------------------------------------------------------\u001b[0m",
      "\u001b[0;31mTypeError\u001b[0m                                 Traceback (most recent call last)",
      "\u001b[0;32m<ipython-input-51-5494cfbb9bdf>\u001b[0m in \u001b[0;36m<module>\u001b[0;34m()\u001b[0m\n\u001b[1;32m     80\u001b[0m \u001b[0mdataLen\u001b[0m \u001b[0;34m=\u001b[0m \u001b[0mlen\u001b[0m\u001b[0;34m(\u001b[0m\u001b[0mtext\u001b[0m\u001b[0;34m)\u001b[0m\u001b[0;34m\u001b[0m\u001b[0m\n\u001b[1;32m     81\u001b[0m \u001b[0;32mprint\u001b[0m\u001b[0;34m(\u001b[0m\u001b[0ms\u001b[0m\u001b[0;34m[\u001b[0m\u001b[0mdataLen\u001b[0m\u001b[0;34m-\u001b[0m\u001b[0;36m45\u001b[0m\u001b[0;34m]\u001b[0m\u001b[0;34m)\u001b[0m\u001b[0;34m\u001b[0m\u001b[0m\n\u001b[0;32m---> 82\u001b[0;31m \u001b[0mx\u001b[0m\u001b[0;34m=\u001b[0m \u001b[0mre\u001b[0m\u001b[0;34m.\u001b[0m\u001b[0mfindall\u001b[0m\u001b[0;34m(\u001b[0m\u001b[0;34mr'\\d+'\u001b[0m\u001b[0;34m,\u001b[0m \u001b[0ms\u001b[0m\u001b[0;34m)\u001b[0m\u001b[0;34m\u001b[0m\u001b[0m\n\u001b[0m\u001b[1;32m     83\u001b[0m \u001b[0;34m\u001b[0m\u001b[0m\n\u001b[1;32m     84\u001b[0m \u001b[0mtoExclude\u001b[0m \u001b[0;34m=\u001b[0m \u001b[0;34m[\u001b[0m\u001b[0;36m1\u001b[0m\u001b[0;34m,\u001b[0m\u001b[0;36m4\u001b[0m\u001b[0;34m]\u001b[0m\u001b[0;34m\u001b[0m\u001b[0m\n",
      "\u001b[0;32m/usr/local/Cellar/python@2/2.7.15/Frameworks/Python.framework/Versions/2.7/lib/python2.7/re.pyc\u001b[0m in \u001b[0;36mfindall\u001b[0;34m(pattern, string, flags)\u001b[0m\n\u001b[1;32m    179\u001b[0m \u001b[0;34m\u001b[0m\u001b[0m\n\u001b[1;32m    180\u001b[0m     Empty matches are included in the result.\"\"\"\n\u001b[0;32m--> 181\u001b[0;31m     \u001b[0;32mreturn\u001b[0m \u001b[0m_compile\u001b[0m\u001b[0;34m(\u001b[0m\u001b[0mpattern\u001b[0m\u001b[0;34m,\u001b[0m \u001b[0mflags\u001b[0m\u001b[0;34m)\u001b[0m\u001b[0;34m.\u001b[0m\u001b[0mfindall\u001b[0m\u001b[0;34m(\u001b[0m\u001b[0mstring\u001b[0m\u001b[0;34m)\u001b[0m\u001b[0;34m\u001b[0m\u001b[0m\n\u001b[0m\u001b[1;32m    182\u001b[0m \u001b[0;34m\u001b[0m\u001b[0m\n\u001b[1;32m    183\u001b[0m \u001b[0;32mif\u001b[0m \u001b[0msys\u001b[0m\u001b[0;34m.\u001b[0m\u001b[0mhexversion\u001b[0m \u001b[0;34m>=\u001b[0m \u001b[0;36m0x02020000\u001b[0m\u001b[0;34m:\u001b[0m\u001b[0;34m\u001b[0m\u001b[0m\n",
      "\u001b[0;31mTypeError\u001b[0m: buffer size mismatch"
     ]
    }
   ],
   "source": [
    "def sigmoid(x):\n",
    "    return 1/(1+np.exp(-x))\n",
    "def maxIndex(index):\n",
    "    return random.randint(0,3)\n",
    "def test(feature):\n",
    "    '''Layer #1'''\n",
    "    out = np.array(feature)\n",
    "    thetas = np.loadtxt(\"HL1ThetasTrained\")\n",
    "    thetas = np.reshape(thetas,(NumFeatures,NumFeatures))\n",
    "    out = np.reshape(out,(NumFeatures,1))\n",
    "    out = np.dot(thetas,out)\n",
    "    \n",
    "    '''Layer #2'''\n",
    "    thetas = np.loadtxt(\"HL2ThetasTrained\")\n",
    "    thetas = np.reshape(thetas,(NumFeatures,NumFeatures))\n",
    "    out = np.dot(thetas,out)\n",
    "    \n",
    "    '''Layer #4'''\n",
    "    thetas = np.loadtxt(\"HL3ThetasTrained\")\n",
    "    thetas = np.reshape(thetas,(NumFeatures,NumFeatures))\n",
    "    out = np.dot(thetas,out)\n",
    "    \n",
    "    '''Layer #5'''\n",
    "    thetas = np.loadtxt(\"HL4ThetasTrained\")\n",
    "    thetas = np.reshape(thetas,(NumFeatures,NumFeatures))\n",
    "    out = np.dot(thetas,out)\n",
    "    \n",
    "    '''Layer #6'''\n",
    "    thetas = np.loadtxt(\"HL5ThetasTrained\")\n",
    "    thetas = np.reshape(thetas,(NumFeatures,NumFeatures))\n",
    "    out = np.dot(thetas,out)\n",
    "\n",
    "    '''Layer #6'''\n",
    "    thetas = np.loadtxt(\"HL6ThetasTrained\")\n",
    "    thetas = np.reshape(thetas,(NumFeatures,NumFeatures))\n",
    "    out = np.dot(thetas,out)\n",
    "    \n",
    "    '''Layer #7'''\n",
    "    thetas = np.loadtxt(\"HL7ThetasTrained\")\n",
    "    thetas = np.reshape(thetas,(NumFeatures,NumFeatures))\n",
    "    out = np.dot(thetas,out)\n",
    "    \n",
    "    '''Layer #8'''\n",
    "    thetas = np.loadtxt(\"HL8ThetasTrained\")\n",
    "    thetas = np.reshape(thetas,(NumFeatures,NumFeatures))\n",
    "    out = np.dot(thetas,out)\n",
    "    \n",
    "    '''Layer #9'''\n",
    "    thetas = np.loadtxt(\"HL9ThetasTrained\")\n",
    "    thetas = np.reshape(thetas,(NumFeatures,NumFeatures))\n",
    "    out = np.dot(thetas,out)\n",
    "    \n",
    "    '''Layer #10'''\n",
    "    thetas = np.loadtxt(\"HL10ThetasTrained\")\n",
    "    thetas = np.reshape(thetas,(NumFeatures,NumFeatures))\n",
    "    out = np.dot(thetas,out)\n",
    "    \n",
    "    '''OtptLayer'''\n",
    "    thetas = np.loadtxt(\"OtptThetasTrained\")\n",
    "    thetas = np.reshape(thetas,(NumFeatures,possibleActionsCount))\n",
    "    out = np.dot(out.T,thetas)\n",
    "    \n",
    "    out = list(out)\n",
    "    outIndex = maxIndex(out)\n",
    "    if(outIndex==0):\n",
    "        print(\"Your Baby may want to Sleep, have some humming\")\n",
    "        \n",
    "    elif(outIndex == 1):\n",
    "        print(\"Your baby may be Hungary, please feed!\")\n",
    "    elif(outIndex == 2):\n",
    "        print(\"Your baby may be feeling Shitty!\")\n",
    "    elif(outIndex == 3):\n",
    "        print(\"Your baby may want your Attention, you may leave your phone now!\")\n",
    "    \n",
    "\n",
    "    \n",
    "import re\n",
    "import pandas as pd\n",
    "text = pd.DataFrame(pd.read_table(\"raw.txt\"))\n",
    "dataLen = len(text)\n",
    "print(s[dataLen-45])\n",
    "x= re.findall(r'\\d+', s)\n",
    "\n",
    "del x[1]\n",
    "del x[3]\n",
    "\n",
    "x = list(map(int, x))\n",
    "print(x)    \n",
    "    \n",
    "    \n",
    "    \n",
    "test([random.randint(0,100)]*NumFeatures)\n",
    "\n",
    "\n",
    "\n",
    "prediction_text = open(\"Prediction_Text\",'w')\n",
    "prediction_text.write(test([random.randint(0,100)]*NumFeatures))"
   ]
  },
  {
   "cell_type": "code",
   "execution_count": null,
   "metadata": {},
   "outputs": [],
   "source": []
  },
  {
   "cell_type": "code",
   "execution_count": null,
   "metadata": {},
   "outputs": [],
   "source": []
  }
 ],
 "metadata": {
  "kernelspec": {
   "display_name": "Python 2",
   "language": "python",
   "name": "python2"
  },
  "language_info": {
   "codemirror_mode": {
    "name": "ipython",
    "version": 2
   },
   "file_extension": ".py",
   "mimetype": "text/x-python",
   "name": "python",
   "nbconvert_exporter": "python",
   "pygments_lexer": "ipython2",
   "version": "2.7.15"
  }
 },
 "nbformat": 4,
 "nbformat_minor": 2
}
