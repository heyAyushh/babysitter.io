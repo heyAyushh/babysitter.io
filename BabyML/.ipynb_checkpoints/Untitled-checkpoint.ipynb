{
 "cells": [
  {
   "cell_type": "code",
   "execution_count": 26,
   "metadata": {},
   "outputs": [
    {
     "data": {
      "text/plain": [
       "{Temperature=26.2, SoundIntensity=0, Humidity=47.6, Wet=0, LightIntensity=230, timestamp=20180708T101547Z}    {Temperature=26.3, SoundIntensity=0, Humidity=...\n",
       "Name: 1, dtype: object"
      ]
     },
     "execution_count": 26,
     "metadata": {},
     "output_type": "execute_result"
    }
   ],
   "source": [
    "import pandas as pd\n",
    "\n",
    "text = pd.DataFrame(pd.read_table(\"raw.txt\"))\n",
    "(text.iloc[1])"
   ]
  },
  {
   "cell_type": "code",
   "execution_count": 42,
   "metadata": {},
   "outputs": [
    {
     "name": "stdout",
     "output_type": "stream",
     "text": [
      "{\n",
      "T\n",
      "e\n",
      "m\n",
      "p\n",
      "e\n",
      "r\n",
      "a\n",
      "t\n",
      "u\n",
      "r\n",
      "e\n",
      "=\n",
      "2\n",
      "6\n",
      ".\n",
      "3\n",
      ",\n",
      " \n",
      "S\n",
      "o\n",
      "u\n",
      "n\n",
      "d\n",
      "I\n",
      "n\n",
      "t\n",
      "e\n",
      "n\n",
      "s\n",
      "i\n",
      "t\n",
      "y\n",
      "=\n",
      "0\n",
      ",\n",
      " \n",
      "H\n",
      "u\n",
      "m\n",
      "i\n",
      "d\n",
      "i\n",
      "t\n",
      "y\n",
      "=\n",
      "4\n",
      "7\n",
      ".\n",
      "8\n",
      ",\n",
      " \n",
      "W\n",
      "e\n",
      "t\n",
      "=\n",
      "0\n",
      ",\n",
      " \n",
      "L\n",
      "i\n",
      "g\n",
      "h\n",
      "t\n",
      "I\n",
      "n\n",
      "t\n",
      "e\n",
      "n\n",
      "s\n",
      "i\n",
      "t\n",
      "y\n",
      "=\n",
      "2\n",
      "2\n",
      "6\n",
      ",\n",
      " \n",
      "t\n",
      "i\n",
      "m\n",
      "e\n",
      "s\n",
      "t\n",
      "a\n",
      "m\n",
      "p\n",
      "=\n",
      "2\n",
      "0\n",
      "1\n",
      "8\n",
      "0\n",
      "7\n",
      "0\n",
      "8\n",
      "T\n",
      "1\n",
      "0\n",
      "1\n",
      "5\n",
      "4\n",
      "9\n",
      "Z\n",
      "}\n"
     ]
    }
   ],
   "source": [
    "Bhg = (text.iloc[0][0])\n",
    "# # TempIndexes = 13:17\n",
    "# Sound = 34,36\n",
    "# Humidity\n",
    "# print(Bhg)\n",
    "StringToList = []\n",
    "\n",
    "for i in range(0,len(Bhg)):\n",
    "    if(Bhg[i]=='='):\n",
    "        StringToList.append(Bhg[i])\n",
    "        if(Bhg[i]==',')\n",
    "        "
   ]
  },
  {
   "cell_type": "code",
   "execution_count": null,
   "metadata": {},
   "outputs": [],
   "source": []
  }
 ],
 "metadata": {
  "kernelspec": {
   "display_name": "Python 3",
   "language": "python",
   "name": "python3"
  },
  "language_info": {
   "codemirror_mode": {
    "name": "ipython",
    "version": 2
   },
   "file_extension": ".py",
   "mimetype": "text/x-python",
   "name": "python",
   "nbconvert_exporter": "python",
   "pygments_lexer": "ipython2",
   "version": "2.7.15"
  }
 },
 "nbformat": 4,
 "nbformat_minor": 2
}
